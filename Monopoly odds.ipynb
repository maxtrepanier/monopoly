{
 "cells": [
  {
   "cell_type": "markdown",
   "metadata": {},
   "source": [
    "# Problem"
   ]
  },
  {
   "cell_type": "markdown",
   "metadata": {},
   "source": [
    "This is problem 84 of Project Euler (https://projecteuler.net/problem=84).\n",
    "\n",
    "We're interested in calculating the probability $P(s)$ of occupying a given square $s$ on the Monopoly board."
   ]
  },
  {
   "cell_type": "markdown",
   "metadata": {},
   "source": [
    "# Solution"
   ]
  },
  {
   "cell_type": "markdown",
   "metadata": {},
   "source": [
    "The idea is to construct a Markov chain. That is, we identify the possible states $\\psi$ that uniquely specify a probability of transition $P(\\psi' | \\psi)$ to the state $\\psi'$ from $\\psi$.\n",
    "\n",
    "Here the rules depend on two pieces of data: the current square $s$, and the number of consecutive doubles rolled so far $d$ (the third consecutive double sends you to jail). So the transition matrix is $T = P(s', d' | s, d)$. Suppose then we calculated $T$. Marginalising, we have that $P(s,d)$ satisfies $P(s', d') = \\sum_{s, d} P(s', d' | s, d) P(s, d)$, in other words $P(s,d)$ is a null vector of the matrix $T - \\delta_{s,s'} \\delta_{d, d'}$. Solving for $P(s,d)$ can be done using standard linear algebra methods. Finally we obtain $P(s)$ by marginalising over $d$, $P(s) = \\sum_{d=0,1,2} P(s,d)$."
   ]
  },
  {
   "cell_type": "markdown",
   "metadata": {},
   "source": [
    "# Implementation "
   ]
  },
  {
   "cell_type": "markdown",
   "metadata": {},
   "source": [
    "We will need linear algebra methods:"
   ]
  },
  {
   "cell_type": "code",
   "execution_count": 1,
   "metadata": {},
   "outputs": [],
   "source": [
    "import numpy as np\n",
    "from scipy.linalg import null_space"
   ]
  },
  {
   "cell_type": "markdown",
   "metadata": {},
   "source": [
    "We start by defining the probability distribution for two dice:"
   ]
  },
  {
   "cell_type": "code",
   "execution_count": 2,
   "metadata": {},
   "outputs": [],
   "source": [
    "def two_dice_dist(throw, sides=6):\n",
    "    \"\"\" Probability of a given throw for two dice \"\"\"\n",
    "    if throw < sides+1 and throw >= 2:\n",
    "        return (throw-1)/sides**2\n",
    "    if throw >= sides+1 and throw <= 2*sides:\n",
    "        return (2*sides+1-throw)/sides**2\n",
    "\n",
    "def throw_double(throw, sides=6):\n",
    "    \"\"\" Relative probability of rolling a double for a given throw of two dice \"\"\"\n",
    "    if throw % 2 != 0:\n",
    "        return 0\n",
    "    else:\n",
    "        return 1/(two_dice_dist(throw, sides)*sides**2)"
   ]
  },
  {
   "cell_type": "markdown",
   "metadata": {},
   "source": [
    "The core of this problem is defining a class Monopoly that calculates the probability transition between each state."
   ]
  },
  {
   "cell_type": "code",
   "execution_count": 3,
   "metadata": {},
   "outputs": [],
   "source": [
    "class Monopoly:\n",
    "    \"\"\" Calculates the probabilities of each square on a Monopoly board. \"\"\"\n",
    "    def __init__(self, sides=6):\n",
    "        self.sides = sides\n",
    "        self.square =\\\n",
    "        ['GO','A1','CC1','A2','T1','R1','B1','CH1','B2','B3','JAIL','C1','U1',\n",
    "         'C2','C3','R2','D1','CC2','D2','D3','FP','E1','CH2','E2','E3','R3',\n",
    "         'F1','F2','U2','F3','G2J','G1','G2','CC3','G3','R4','CH3','H1','T2','H2']\n",
    "        self.index = dict()\n",
    "        for label, i in zip(self.square, range(len(self.square))):\n",
    "            self.index[label] = i\n",
    "\n",
    "        self.dice_probability = [\n",
    "            (throw,\n",
    "             two_dice_dist(throw, sides),\n",
    "             throw_double(throw, sides)\n",
    "            ) for throw in range(2,2*sides+1)]\n",
    "\n",
    "        self.prob_matrix = np.zeros((120,120))\n",
    "\n",
    "    def next_railway(self, square):\n",
    "        \"\"\" Returns the next railway square from given square. \"\"\"\n",
    "        i = self.index[square]\n",
    "        if i >= 5 and i < 15:\n",
    "            return 'R2'\n",
    "        if i >= 15 and i < 25:\n",
    "            return 'R3'\n",
    "        if i >= 25 and i < 35:\n",
    "            return 'R4'\n",
    "        else:\n",
    "            return 'R1'\n",
    "\n",
    "    def next_utility(self, square):\n",
    "        \"\"\" Returns the next utility square from given square. \"\"\"\n",
    "        i = self.index[square]\n",
    "        if i >= 12 and i < 28:\n",
    "            return 'U2'\n",
    "        else:\n",
    "            return 'U1'\n",
    "\n",
    "    def compute_transition_probability(self, square, nb_double, next_square,\n",
    "            next_nb_double, prob):\n",
    "        \"\"\" Adds to each entry of the dictionary outcomes the probability of\n",
    "        landing any square given we've advanced to next_square.\n",
    "        \"\"\"\n",
    "\n",
    "        # local shorthand for readability\n",
    "        def add_probability(next_square, prob):\n",
    "            # defines P(new state | current state)\n",
    "            self.prob_matrix[next_nb_double*40 + self.index[next_square],\n",
    "                nb_double*40 + self.index[square]] += prob\n",
    "\n",
    "        # In each case, the total probability adds up to prob\n",
    "        # First treat special cases\n",
    "        if next_square == 'G2J':\n",
    "            add_probability('JAIL', prob)\n",
    "        elif next_square[:2] == 'CC':  # community chest\n",
    "            add_probability(next_square, 7/8*prob)\n",
    "            add_probability('GO', 1/16*prob)\n",
    "            add_probability('JAIL', 1/16*prob)\n",
    "        elif next_square[:2] == 'CH':  # chance card\n",
    "            add_probability(next_square, 3/8*prob) # go to next square\n",
    "            for label in ['GO','JAIL','C1','E3','H2','R1']:\n",
    "                add_probability(label, 1/16*prob)\n",
    "            add_probability(self.next_railway(next_square), 1/8*prob)\n",
    "            add_probability(self.next_utility(next_square), 1/16*prob)\n",
    "            # also a chance of going back 3 squares\n",
    "            new_next_square = self.square[(self.index[next_square]-3) %\n",
    "                    len(self.square)]\n",
    "            self.compute_transition_probability(square, nb_double, new_next_square,\n",
    "                    next_nb_double, prob/16)\n",
    "        else:\n",
    "            # otherwise, normal square\n",
    "            add_probability(next_square, prob)\n",
    "\n",
    "    def compute_transition_matrix(self):\n",
    "        for square in self.index:\n",
    "            # throw is the result of the roll, prob the probility for the outcome\n",
    "            # prob_double is the relative probability of rolling a double\n",
    "            for throw, prob, prob_double in self.dice_probability:\n",
    "                next_square = self.square[(self.index[square] + throw) %\n",
    "                        len(self.square)]\n",
    "                for nb_double in range(3):\n",
    "                    # if we roll a double\n",
    "                    if nb_double == 2:  # rule for 3 doubles\n",
    "                        # add_probability('JAIL', prob_double*prob)\n",
    "                        self.prob_matrix[0*40 + self.index['JAIL'],\n",
    "                            2*40 + self.index[square]] += prob_double*prob\n",
    "                    else:\n",
    "                        self.compute_transition_probability(square, nb_double,\n",
    "                                next_square, nb_double+1, prob_double*prob)\n",
    "                    # if we don't roll a double, reset to zero\n",
    "                    self.compute_transition_probability(square, nb_double,\n",
    "                        next_square, 0, (1-prob_double)*prob)\n",
    "\n",
    "    def compute_probability(self):\n",
    "        self.compute_transition_matrix()\n",
    "        # the probability is the null vector of the matrix A\n",
    "        A = self.prob_matrix - np.identity(len(self.prob_matrix))\n",
    "        p = null_space(A).transpose()[0]\n",
    "        p = p/sum(p)  # need to normalise, since any multiple of p is null\n",
    "        # sum over values of doubles\n",
    "        prob_vec = [(p[i] + p[40+i] + p[80+i], self.square[i]) for i in\n",
    "                range(len(self.square))]\n",
    "        prob_vec.sort(reverse=True)\n",
    "        return prob_vec"
   ]
  },
  {
   "cell_type": "markdown",
   "metadata": {},
   "source": [
    "The result using 6-sided dice:"
   ]
  },
  {
   "cell_type": "code",
   "execution_count": 4,
   "metadata": {},
   "outputs": [
    {
     "name": "stdout",
     "output_type": "stream",
     "text": [
      "List of probabilities\n",
      "JAIL : 6.242%\n",
      "E3 : 3.184%\n",
      "GO : 3.095%\n",
      "D3 : 3.087%\n",
      "R3 : 3.066%\n"
     ]
    }
   ],
   "source": [
    "m = Monopoly(6)\n",
    "prob_vec = m.compute_probability()\n",
    "print(\"List of probabilities\")\n",
    "for p, l in prob_vec[:5]:\n",
    "    print(l, ': {:.3f}%'.format(100*p))"
   ]
  },
  {
   "cell_type": "markdown",
   "metadata": {},
   "source": [
    "Indeed this agrees with the odds given in the problem statement. For 4-sided dice, the probabilities would be instead"
   ]
  },
  {
   "cell_type": "code",
   "execution_count": 5,
   "metadata": {},
   "outputs": [
    {
     "name": "stdout",
     "output_type": "stream",
     "text": [
      "List of probabilities\n",
      "JAIL : 7.023%\n",
      "R2 : 3.617%\n",
      "E3 : 3.288%\n",
      "D1 : 3.227%\n",
      "R3 : 3.111%\n"
     ]
    }
   ],
   "source": [
    "m = Monopoly(4)\n",
    "prob_vec = m.compute_probability()\n",
    "print(\"List of probabilities\")\n",
    "for p, l in prob_vec[:5]:\n",
    "    print(l, ': {:.3f}%'.format(100*p))"
   ]
  }
 ],
 "metadata": {
  "kernelspec": {
   "display_name": "Python 3",
   "language": "python",
   "name": "python3"
  },
  "language_info": {
   "codemirror_mode": {
    "name": "ipython",
    "version": 3
   },
   "file_extension": ".py",
   "mimetype": "text/x-python",
   "name": "python",
   "nbconvert_exporter": "python",
   "pygments_lexer": "ipython3",
   "version": "3.7.3"
  }
 },
 "nbformat": 4,
 "nbformat_minor": 2
}
